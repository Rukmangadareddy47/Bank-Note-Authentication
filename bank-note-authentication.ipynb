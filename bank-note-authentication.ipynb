{
 "cells": [
  {
   "cell_type": "code",
   "execution_count": 1,
   "id": "d3349799",
   "metadata": {
    "_cell_guid": "b1076dfc-b9ad-4769-8c92-a6c4dae69d19",
    "_uuid": "8f2839f25d086af736a60e9eeb907d3b93b6e0e5",
    "execution": {
     "iopub.execute_input": "2022-08-18T07:21:57.337564Z",
     "iopub.status.busy": "2022-08-18T07:21:57.337008Z",
     "iopub.status.idle": "2022-08-18T07:21:57.357106Z",
     "shell.execute_reply": "2022-08-18T07:21:57.355927Z"
    },
    "papermill": {
     "duration": 0.031134,
     "end_time": "2022-08-18T07:21:57.359758",
     "exception": false,
     "start_time": "2022-08-18T07:21:57.328624",
     "status": "completed"
    },
    "tags": []
   },
   "outputs": [
    {
     "name": "stdout",
     "output_type": "stream",
     "text": [
      "/kaggle/input/bank-note-authentication-uci-data/BankNote_Authentication.csv\n"
     ]
    }
   ],
   "source": [
    "# This Python 3 environment comes with many helpful analytics libraries installed\n",
    "# It is defined by the kaggle/python Docker image: https://github.com/kaggle/docker-python\n",
    "# For example, here's several helpful packages to load\n",
    "\n",
    "import numpy as np # linear algebra\n",
    "import pandas as pd # data processing, CSV file I/O (e.g. pd.read_csv)\n",
    "\n",
    "# Input data files are available in the read-only \"../input/\" directory\n",
    "# For example, running this (by clicking run or pressing Shift+Enter) will list all files under the input directory\n",
    "\n",
    "import os\n",
    "for dirname, _, filenames in os.walk('/kaggle/input'):\n",
    "    for filename in filenames:\n",
    "        print(os.path.join(dirname, filename))\n",
    "\n",
    "# You can write up to 20GB to the current directory (/kaggle/working/) that gets preserved as output when you create a version using \"Save & Run All\" \n",
    "# You can also write temporary files to /kaggle/temp/, but they won't be saved outside of the current session"
   ]
  },
  {
   "cell_type": "code",
   "execution_count": 2,
   "id": "c704aec2",
   "metadata": {
    "execution": {
     "iopub.execute_input": "2022-08-18T07:21:57.372706Z",
     "iopub.status.busy": "2022-08-18T07:21:57.372243Z",
     "iopub.status.idle": "2022-08-18T07:21:57.389444Z",
     "shell.execute_reply": "2022-08-18T07:21:57.387989Z"
    },
    "papermill": {
     "duration": 0.027234,
     "end_time": "2022-08-18T07:21:57.392456",
     "exception": false,
     "start_time": "2022-08-18T07:21:57.365222",
     "status": "completed"
    },
    "tags": []
   },
   "outputs": [],
   "source": [
    "df = pd.read_csv('../input/bank-note-authentication-uci-data/BankNote_Authentication.csv')"
   ]
  },
  {
   "cell_type": "code",
   "execution_count": 3,
   "id": "f656551a",
   "metadata": {
    "execution": {
     "iopub.execute_input": "2022-08-18T07:21:57.404670Z",
     "iopub.status.busy": "2022-08-18T07:21:57.403929Z",
     "iopub.status.idle": "2022-08-18T07:21:57.429047Z",
     "shell.execute_reply": "2022-08-18T07:21:57.427867Z"
    },
    "papermill": {
     "duration": 0.03407,
     "end_time": "2022-08-18T07:21:57.431559",
     "exception": false,
     "start_time": "2022-08-18T07:21:57.397489",
     "status": "completed"
    },
    "tags": []
   },
   "outputs": [
    {
     "data": {
      "text/html": [
       "<div>\n",
       "<style scoped>\n",
       "    .dataframe tbody tr th:only-of-type {\n",
       "        vertical-align: middle;\n",
       "    }\n",
       "\n",
       "    .dataframe tbody tr th {\n",
       "        vertical-align: top;\n",
       "    }\n",
       "\n",
       "    .dataframe thead th {\n",
       "        text-align: right;\n",
       "    }\n",
       "</style>\n",
       "<table border=\"1\" class=\"dataframe\">\n",
       "  <thead>\n",
       "    <tr style=\"text-align: right;\">\n",
       "      <th></th>\n",
       "      <th>variance</th>\n",
       "      <th>skewness</th>\n",
       "      <th>curtosis</th>\n",
       "      <th>entropy</th>\n",
       "      <th>class</th>\n",
       "    </tr>\n",
       "  </thead>\n",
       "  <tbody>\n",
       "    <tr>\n",
       "      <th>0</th>\n",
       "      <td>3.62160</td>\n",
       "      <td>8.6661</td>\n",
       "      <td>-2.8073</td>\n",
       "      <td>-0.44699</td>\n",
       "      <td>0</td>\n",
       "    </tr>\n",
       "    <tr>\n",
       "      <th>1</th>\n",
       "      <td>4.54590</td>\n",
       "      <td>8.1674</td>\n",
       "      <td>-2.4586</td>\n",
       "      <td>-1.46210</td>\n",
       "      <td>0</td>\n",
       "    </tr>\n",
       "    <tr>\n",
       "      <th>2</th>\n",
       "      <td>3.86600</td>\n",
       "      <td>-2.6383</td>\n",
       "      <td>1.9242</td>\n",
       "      <td>0.10645</td>\n",
       "      <td>0</td>\n",
       "    </tr>\n",
       "    <tr>\n",
       "      <th>3</th>\n",
       "      <td>3.45660</td>\n",
       "      <td>9.5228</td>\n",
       "      <td>-4.0112</td>\n",
       "      <td>-3.59440</td>\n",
       "      <td>0</td>\n",
       "    </tr>\n",
       "    <tr>\n",
       "      <th>4</th>\n",
       "      <td>0.32924</td>\n",
       "      <td>-4.4552</td>\n",
       "      <td>4.5718</td>\n",
       "      <td>-0.98880</td>\n",
       "      <td>0</td>\n",
       "    </tr>\n",
       "  </tbody>\n",
       "</table>\n",
       "</div>"
      ],
      "text/plain": [
       "   variance  skewness  curtosis  entropy  class\n",
       "0   3.62160    8.6661   -2.8073 -0.44699      0\n",
       "1   4.54590    8.1674   -2.4586 -1.46210      0\n",
       "2   3.86600   -2.6383    1.9242  0.10645      0\n",
       "3   3.45660    9.5228   -4.0112 -3.59440      0\n",
       "4   0.32924   -4.4552    4.5718 -0.98880      0"
      ]
     },
     "execution_count": 3,
     "metadata": {},
     "output_type": "execute_result"
    }
   ],
   "source": [
    "df.head()"
   ]
  },
  {
   "cell_type": "code",
   "execution_count": 4,
   "id": "8179815e",
   "metadata": {
    "execution": {
     "iopub.execute_input": "2022-08-18T07:21:57.444036Z",
     "iopub.status.busy": "2022-08-18T07:21:57.443548Z",
     "iopub.status.idle": "2022-08-18T07:21:57.450990Z",
     "shell.execute_reply": "2022-08-18T07:21:57.449909Z"
    },
    "papermill": {
     "duration": 0.016509,
     "end_time": "2022-08-18T07:21:57.453377",
     "exception": false,
     "start_time": "2022-08-18T07:21:57.436868",
     "status": "completed"
    },
    "tags": []
   },
   "outputs": [
    {
     "data": {
      "text/plain": [
       "(1372, 5)"
      ]
     },
     "execution_count": 4,
     "metadata": {},
     "output_type": "execute_result"
    }
   ],
   "source": [
    "df.shape"
   ]
  },
  {
   "cell_type": "code",
   "execution_count": 5,
   "id": "bc626e21",
   "metadata": {
    "execution": {
     "iopub.execute_input": "2022-08-18T07:21:57.466080Z",
     "iopub.status.busy": "2022-08-18T07:21:57.465594Z",
     "iopub.status.idle": "2022-08-18T07:21:57.506105Z",
     "shell.execute_reply": "2022-08-18T07:21:57.504779Z"
    },
    "papermill": {
     "duration": 0.049945,
     "end_time": "2022-08-18T07:21:57.508650",
     "exception": false,
     "start_time": "2022-08-18T07:21:57.458705",
     "status": "completed"
    },
    "tags": []
   },
   "outputs": [
    {
     "data": {
      "text/html": [
       "<div>\n",
       "<style scoped>\n",
       "    .dataframe tbody tr th:only-of-type {\n",
       "        vertical-align: middle;\n",
       "    }\n",
       "\n",
       "    .dataframe tbody tr th {\n",
       "        vertical-align: top;\n",
       "    }\n",
       "\n",
       "    .dataframe thead th {\n",
       "        text-align: right;\n",
       "    }\n",
       "</style>\n",
       "<table border=\"1\" class=\"dataframe\">\n",
       "  <thead>\n",
       "    <tr style=\"text-align: right;\">\n",
       "      <th></th>\n",
       "      <th>variance</th>\n",
       "      <th>skewness</th>\n",
       "      <th>curtosis</th>\n",
       "      <th>entropy</th>\n",
       "      <th>class</th>\n",
       "    </tr>\n",
       "  </thead>\n",
       "  <tbody>\n",
       "    <tr>\n",
       "      <th>count</th>\n",
       "      <td>1372.000000</td>\n",
       "      <td>1372.000000</td>\n",
       "      <td>1372.000000</td>\n",
       "      <td>1372.000000</td>\n",
       "      <td>1372.000000</td>\n",
       "    </tr>\n",
       "    <tr>\n",
       "      <th>mean</th>\n",
       "      <td>0.433735</td>\n",
       "      <td>1.922353</td>\n",
       "      <td>1.397627</td>\n",
       "      <td>-1.191657</td>\n",
       "      <td>0.444606</td>\n",
       "    </tr>\n",
       "    <tr>\n",
       "      <th>std</th>\n",
       "      <td>2.842763</td>\n",
       "      <td>5.869047</td>\n",
       "      <td>4.310030</td>\n",
       "      <td>2.101013</td>\n",
       "      <td>0.497103</td>\n",
       "    </tr>\n",
       "    <tr>\n",
       "      <th>min</th>\n",
       "      <td>-7.042100</td>\n",
       "      <td>-13.773100</td>\n",
       "      <td>-5.286100</td>\n",
       "      <td>-8.548200</td>\n",
       "      <td>0.000000</td>\n",
       "    </tr>\n",
       "    <tr>\n",
       "      <th>25%</th>\n",
       "      <td>-1.773000</td>\n",
       "      <td>-1.708200</td>\n",
       "      <td>-1.574975</td>\n",
       "      <td>-2.413450</td>\n",
       "      <td>0.000000</td>\n",
       "    </tr>\n",
       "    <tr>\n",
       "      <th>50%</th>\n",
       "      <td>0.496180</td>\n",
       "      <td>2.319650</td>\n",
       "      <td>0.616630</td>\n",
       "      <td>-0.586650</td>\n",
       "      <td>0.000000</td>\n",
       "    </tr>\n",
       "    <tr>\n",
       "      <th>75%</th>\n",
       "      <td>2.821475</td>\n",
       "      <td>6.814625</td>\n",
       "      <td>3.179250</td>\n",
       "      <td>0.394810</td>\n",
       "      <td>1.000000</td>\n",
       "    </tr>\n",
       "    <tr>\n",
       "      <th>max</th>\n",
       "      <td>6.824800</td>\n",
       "      <td>12.951600</td>\n",
       "      <td>17.927400</td>\n",
       "      <td>2.449500</td>\n",
       "      <td>1.000000</td>\n",
       "    </tr>\n",
       "  </tbody>\n",
       "</table>\n",
       "</div>"
      ],
      "text/plain": [
       "          variance     skewness     curtosis      entropy        class\n",
       "count  1372.000000  1372.000000  1372.000000  1372.000000  1372.000000\n",
       "mean      0.433735     1.922353     1.397627    -1.191657     0.444606\n",
       "std       2.842763     5.869047     4.310030     2.101013     0.497103\n",
       "min      -7.042100   -13.773100    -5.286100    -8.548200     0.000000\n",
       "25%      -1.773000    -1.708200    -1.574975    -2.413450     0.000000\n",
       "50%       0.496180     2.319650     0.616630    -0.586650     0.000000\n",
       "75%       2.821475     6.814625     3.179250     0.394810     1.000000\n",
       "max       6.824800    12.951600    17.927400     2.449500     1.000000"
      ]
     },
     "execution_count": 5,
     "metadata": {},
     "output_type": "execute_result"
    }
   ],
   "source": [
    "df.describe()"
   ]
  },
  {
   "cell_type": "markdown",
   "id": "9a9722c0",
   "metadata": {
    "papermill": {
     "duration": 0.005234,
     "end_time": "2022-08-18T07:21:57.519513",
     "exception": false,
     "start_time": "2022-08-18T07:21:57.514279",
     "status": "completed"
    },
    "tags": []
   },
   "source": [
    "Seperating Independent and Dependent features"
   ]
  },
  {
   "cell_type": "code",
   "execution_count": 6,
   "id": "a71075d6",
   "metadata": {
    "execution": {
     "iopub.execute_input": "2022-08-18T07:21:57.533018Z",
     "iopub.status.busy": "2022-08-18T07:21:57.532110Z",
     "iopub.status.idle": "2022-08-18T07:21:57.538578Z",
     "shell.execute_reply": "2022-08-18T07:21:57.537702Z"
    },
    "papermill": {
     "duration": 0.015997,
     "end_time": "2022-08-18T07:21:57.540970",
     "exception": false,
     "start_time": "2022-08-18T07:21:57.524973",
     "status": "completed"
    },
    "tags": []
   },
   "outputs": [],
   "source": [
    "X=df.iloc[:,:-1]\n",
    "y=df.iloc[:,-1]"
   ]
  },
  {
   "cell_type": "markdown",
   "id": "c269cbfe",
   "metadata": {
    "papermill": {
     "duration": 0.005099,
     "end_time": "2022-08-18T07:21:57.551879",
     "exception": false,
     "start_time": "2022-08-18T07:21:57.546780",
     "status": "completed"
    },
    "tags": []
   },
   "source": [
    "As we dont have any particular file for testing we need to split the data by using train_test_split"
   ]
  },
  {
   "cell_type": "code",
   "execution_count": 7,
   "id": "875c4bbb",
   "metadata": {
    "execution": {
     "iopub.execute_input": "2022-08-18T07:21:57.565672Z",
     "iopub.status.busy": "2022-08-18T07:21:57.564683Z",
     "iopub.status.idle": "2022-08-18T07:21:58.900355Z",
     "shell.execute_reply": "2022-08-18T07:21:58.898974Z"
    },
    "papermill": {
     "duration": 1.345979,
     "end_time": "2022-08-18T07:21:58.903473",
     "exception": false,
     "start_time": "2022-08-18T07:21:57.557494",
     "status": "completed"
    },
    "tags": []
   },
   "outputs": [],
   "source": [
    "from sklearn.model_selection import train_test_split"
   ]
  },
  {
   "cell_type": "code",
   "execution_count": 8,
   "id": "e68c2236",
   "metadata": {
    "execution": {
     "iopub.execute_input": "2022-08-18T07:21:58.917463Z",
     "iopub.status.busy": "2022-08-18T07:21:58.916988Z",
     "iopub.status.idle": "2022-08-18T07:21:58.926102Z",
     "shell.execute_reply": "2022-08-18T07:21:58.924791Z"
    },
    "papermill": {
     "duration": 0.019141,
     "end_time": "2022-08-18T07:21:58.928410",
     "exception": false,
     "start_time": "2022-08-18T07:21:58.909269",
     "status": "completed"
    },
    "tags": []
   },
   "outputs": [],
   "source": [
    "X_train,X_test,y_train,y_test=train_test_split(X,y,test_size=0.3,random_state=47)"
   ]
  },
  {
   "cell_type": "markdown",
   "id": "d5297f19",
   "metadata": {
    "papermill": {
     "duration": 0.005306,
     "end_time": "2022-08-18T07:21:58.939285",
     "exception": false,
     "start_time": "2022-08-18T07:21:58.933979",
     "status": "completed"
    },
    "tags": []
   },
   "source": [
    "Implementing Random Forest Classifier"
   ]
  },
  {
   "cell_type": "code",
   "execution_count": 9,
   "id": "74de7a2d",
   "metadata": {
    "execution": {
     "iopub.execute_input": "2022-08-18T07:21:58.952503Z",
     "iopub.status.busy": "2022-08-18T07:21:58.952002Z",
     "iopub.status.idle": "2022-08-18T07:21:59.432203Z",
     "shell.execute_reply": "2022-08-18T07:21:59.430867Z"
    },
    "papermill": {
     "duration": 0.490065,
     "end_time": "2022-08-18T07:21:59.434924",
     "exception": false,
     "start_time": "2022-08-18T07:21:58.944859",
     "status": "completed"
    },
    "tags": []
   },
   "outputs": [
    {
     "data": {
      "text/plain": [
       "RandomForestClassifier()"
      ]
     },
     "execution_count": 9,
     "metadata": {},
     "output_type": "execute_result"
    }
   ],
   "source": [
    "from sklearn.ensemble import RandomForestClassifier\n",
    "classifier=RandomForestClassifier()\n",
    "classifier.fit(X_train,y_train)"
   ]
  },
  {
   "cell_type": "code",
   "execution_count": 10,
   "id": "bae3ba0a",
   "metadata": {
    "execution": {
     "iopub.execute_input": "2022-08-18T07:21:59.448744Z",
     "iopub.status.busy": "2022-08-18T07:21:59.447548Z",
     "iopub.status.idle": "2022-08-18T07:21:59.473452Z",
     "shell.execute_reply": "2022-08-18T07:21:59.472123Z"
    },
    "papermill": {
     "duration": 0.035849,
     "end_time": "2022-08-18T07:21:59.476551",
     "exception": false,
     "start_time": "2022-08-18T07:21:59.440702",
     "status": "completed"
    },
    "tags": []
   },
   "outputs": [],
   "source": [
    "y_pred=classifier.predict(X_test)"
   ]
  },
  {
   "cell_type": "code",
   "execution_count": 11,
   "id": "e76e3a06",
   "metadata": {
    "execution": {
     "iopub.execute_input": "2022-08-18T07:21:59.489586Z",
     "iopub.status.busy": "2022-08-18T07:21:59.489147Z",
     "iopub.status.idle": "2022-08-18T07:21:59.496529Z",
     "shell.execute_reply": "2022-08-18T07:21:59.495612Z"
    },
    "papermill": {
     "duration": 0.016477,
     "end_time": "2022-08-18T07:21:59.498737",
     "exception": false,
     "start_time": "2022-08-18T07:21:59.482260",
     "status": "completed"
    },
    "tags": []
   },
   "outputs": [],
   "source": [
    "from sklearn.metrics import accuracy_score\n",
    "score=accuracy_score(y_test,y_pred)"
   ]
  },
  {
   "cell_type": "code",
   "execution_count": 12,
   "id": "535de18d",
   "metadata": {
    "execution": {
     "iopub.execute_input": "2022-08-18T07:21:59.512236Z",
     "iopub.status.busy": "2022-08-18T07:21:59.511145Z",
     "iopub.status.idle": "2022-08-18T07:21:59.518824Z",
     "shell.execute_reply": "2022-08-18T07:21:59.517737Z"
    },
    "papermill": {
     "duration": 0.017142,
     "end_time": "2022-08-18T07:21:59.521507",
     "exception": false,
     "start_time": "2022-08-18T07:21:59.504365",
     "status": "completed"
    },
    "tags": []
   },
   "outputs": [
    {
     "data": {
      "text/plain": [
       "0.9878640776699029"
      ]
     },
     "execution_count": 12,
     "metadata": {},
     "output_type": "execute_result"
    }
   ],
   "source": [
    "score"
   ]
  },
  {
   "cell_type": "code",
   "execution_count": 13,
   "id": "b7c7b329",
   "metadata": {
    "execution": {
     "iopub.execute_input": "2022-08-18T07:21:59.535262Z",
     "iopub.status.busy": "2022-08-18T07:21:59.534125Z",
     "iopub.status.idle": "2022-08-18T07:21:59.547909Z",
     "shell.execute_reply": "2022-08-18T07:21:59.546864Z"
    },
    "papermill": {
     "duration": 0.023102,
     "end_time": "2022-08-18T07:21:59.550368",
     "exception": false,
     "start_time": "2022-08-18T07:21:59.527266",
     "status": "completed"
    },
    "tags": []
   },
   "outputs": [],
   "source": [
    "import pickle\n",
    "pickle_out = open(\"classifier.pkl\",\"wb\")\n",
    "pickle.dump(classifier, pickle_out)\n",
    "pickle_out.close()"
   ]
  },
  {
   "cell_type": "code",
   "execution_count": 14,
   "id": "8ea61157",
   "metadata": {
    "execution": {
     "iopub.execute_input": "2022-08-18T07:21:59.563940Z",
     "iopub.status.busy": "2022-08-18T07:21:59.563495Z",
     "iopub.status.idle": "2022-08-18T07:21:59.588973Z",
     "shell.execute_reply": "2022-08-18T07:21:59.587539Z"
    },
    "papermill": {
     "duration": 0.03695,
     "end_time": "2022-08-18T07:21:59.592992",
     "exception": false,
     "start_time": "2022-08-18T07:21:59.556042",
     "status": "completed"
    },
    "tags": []
   },
   "outputs": [
    {
     "name": "stderr",
     "output_type": "stream",
     "text": [
      "/opt/conda/lib/python3.7/site-packages/sklearn/base.py:451: UserWarning: X does not have valid feature names, but RandomForestClassifier was fitted with feature names\n",
      "  \"X does not have valid feature names, but\"\n"
     ]
    },
    {
     "data": {
      "text/plain": [
       "array([0])"
      ]
     },
     "execution_count": 14,
     "metadata": {},
     "output_type": "execute_result"
    }
   ],
   "source": [
    "classifier.predict([[2,3,4,1]])"
   ]
  },
  {
   "cell_type": "code",
   "execution_count": null,
   "id": "44477586",
   "metadata": {
    "papermill": {
     "duration": 0.005626,
     "end_time": "2022-08-18T07:21:59.604871",
     "exception": false,
     "start_time": "2022-08-18T07:21:59.599245",
     "status": "completed"
    },
    "tags": []
   },
   "outputs": [],
   "source": []
  }
 ],
 "metadata": {
  "kernelspec": {
   "display_name": "Python 3",
   "language": "python",
   "name": "python3"
  },
  "language_info": {
   "codemirror_mode": {
    "name": "ipython",
    "version": 3
   },
   "file_extension": ".py",
   "mimetype": "text/x-python",
   "name": "python",
   "nbconvert_exporter": "python",
   "pygments_lexer": "ipython3",
   "version": "3.7.12"
  },
  "papermill": {
   "default_parameters": {},
   "duration": 13.30678,
   "end_time": "2022-08-18T07:22:00.537619",
   "environment_variables": {},
   "exception": null,
   "input_path": "__notebook__.ipynb",
   "output_path": "__notebook__.ipynb",
   "parameters": {},
   "start_time": "2022-08-18T07:21:47.230839",
   "version": "2.3.4"
  }
 },
 "nbformat": 4,
 "nbformat_minor": 5
}
